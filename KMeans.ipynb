{
 "cells": [
  {
   "cell_type": "code",
   "execution_count": 6,
   "id": "71f8d505",
   "metadata": {},
   "outputs": [
    {
     "data": {
      "text/plain": [
       "array([1, 0])"
      ]
     },
     "execution_count": 6,
     "metadata": {},
     "output_type": "execute_result"
    }
   ],
   "source": [
    "# Tratamiento de datos\n",
    "# ==============================================================================\n",
    "import numpy as np\n",
    "import pandas as pd\n",
    "import matplotlib.pyplot as plt\n",
    "\n",
    "\n",
    "\n",
    "from sklearn.preprocessing import StandardScaler\n",
    "from sklearn.model_selection import train_test_split\n",
    "from sklearn import preprocessing\n",
    "\n",
    "from sklearn.preprocessing import MinMaxScaler\n",
    "from sklearn.cluster import KMeans\n",
    "\n",
    "\n",
    "# Read the CSV file\n",
    "#d = pd.read_csv(\"MaternalHealthRiskDataSet.csv\")\n",
    "#d = pd.read_csv(\"wine.csv\")\n",
    "d = pd.read_csv(\"COAD.csv\")\n",
    "\n",
    "#target_c = 'class'\n",
    "target_c = 'target'\n",
    "dd = dd = d.drop([target_c], axis=1)\n",
    "#dataset dependant variables\n",
    "types = d[target_c].unique()\n",
    "types"
   ]
  },
  {
   "cell_type": "code",
   "execution_count": 7,
   "id": "13b228ad",
   "metadata": {},
   "outputs": [],
   "source": [
    "#split data into test & train to validade clusters\n",
    "\n",
    "X_train, X_test, y_train, y_test = train_test_split(dd, d[[target_c]],\n",
    "                                                    test_size=0.33, random_state=0)\n",
    "\n",
    "ytrain_l = y_train[target_c].tolist()\n",
    "ytest_l = y_test[target_c].tolist()"
   ]
  },
  {
   "cell_type": "code",
   "execution_count": 8,
   "id": "53c1b431",
   "metadata": {},
   "outputs": [
    {
     "data": {
      "text/plain": [
       "array([[0.42999382, 0.1891831 , 0.18911616, ..., 0.12093476, 0.07087319,\n",
       "        0.15280787],\n",
       "       [0.04438188, 0.0412836 , 0.08284641, ..., 0.13264012, 0.06092087,\n",
       "        0.05468525],\n",
       "       [0.04479388, 0.01751046, 0.07683109, ..., 0.06065431, 0.06684924,\n",
       "        0.05747413],\n",
       "       ...,\n",
       "       [0.44638238, 0.88083369, 0.2167672 , ..., 0.27606159, 0.53343663,\n",
       "        0.24321841],\n",
       "       [0.04090274, 0.07044265, 0.41819536, ..., 0.38558773, 0.22430403,\n",
       "        0.1823291 ],\n",
       "       [0.02243128, 0.10215687, 0.26513228, ..., 0.39845614, 0.26776554,\n",
       "        0.21519878]])"
      ]
     },
     "execution_count": 8,
     "metadata": {},
     "output_type": "execute_result"
    }
   ],
   "source": [
    "#normalize data\n",
    "\n",
    "scaler = MinMaxScaler()\n",
    "scaler.fit(X_train)\n",
    "\n",
    "train_df = scaler.transform(X_train)\n",
    "test_df = scaler.transform(X_test)\n",
    "\n",
    "test_df"
   ]
  },
  {
   "cell_type": "code",
   "execution_count": 12,
   "id": "596da05f",
   "metadata": {},
   "outputs": [
    {
     "name": "stdout",
     "output_type": "stream",
     "text": [
      "[[0.1276332  0.24179976 0.38570706 ... 0.47324727 0.42569184 0.34708729]\n",
      " [0.0614086  0.05957106 0.07124085 ... 0.12196062 0.09232143 0.06830795]\n",
      " [0.12568227 0.17785785 0.31256405 ... 0.33218051 0.3145279  0.21489937]]\n",
      "[1 0 2 2 0 1 2 1 1 1 1 2 1 0 2 2 2 2 1 1 0 2 2 1 1 0 1 1 2 2 2 1 1 1 2 2 2\n",
      " 1 2 1 2 2 1 2 2 0 1 1 0 0 0 0 2 1 2 2 2 1 0 1 2 2 0 2 0 1 2 2 2 1 2 2 1 1\n",
      " 1 1 0 2 0 2 1 1 1 2 2 1 1 1 1 1 1 2 0 1 2 1 2 2 1 0 0 1 2 1 2 2 0 2 1 2 1\n",
      " 2 2 2 2 2 0 1 2 2 2 1 2 2 1 1 2 1 0 0 1 2 1 1 2 2 1 2 2 2 1 2 2 1 2 1 1 2\n",
      " 1 2 1 2 1 1 1 1 2 2 1 2 0 0 1 1 1 2 1 1 1 0 2 2 1 2 2 2 1 1 2 2 0 0 2 1 1\n",
      " 2 2 1 1 1 0 1 1 1 2 1 2 2 1 1 1 2 1 2 2 1 2 0 2 0 2 1 1 1 2 2 1 1 1 1 1 0\n",
      " 1 2 1 1 2 2 1 1 2 0 1 2 2 2 2 2 2 1 2 2 1 1 0 0 2 2 0 0 1 2 0 0 1 1 2 2 1\n",
      " 2 1 2 2 0 1 1 0 0 1 0 2 1 1 2 2 2 2 1]\n"
     ]
    }
   ],
   "source": [
    "#create and train model\n",
    "k = 3#number of clusters\n",
    "kmeans = KMeans(n_clusters = k, random_state = 0, n_init=10)\n",
    "\n",
    "kmeans.fit(train_df)\n",
    "\n",
    "print(kmeans.cluster_centers_)\n",
    "print(kmeans.labels_)"
   ]
  },
  {
   "cell_type": "code",
   "execution_count": 13,
   "id": "4bdb2f70",
   "metadata": {},
   "outputs": [
    {
     "name": "stdout",
     "output_type": "stream",
     "text": [
      "3\t0.764\n"
     ]
    }
   ],
   "source": [
    "\n",
    "#initialize list to evaluate\n",
    "res = []\n",
    "r = []\n",
    "rt = [0] * k\n",
    "ra = [0] * k\n",
    "\n",
    "for i in range(k):\n",
    "    tmp = dict()\n",
    "    for j in types:\n",
    "        tmp[j] = list((0,0))\n",
    "    res.append(tmp)\n",
    "\n",
    "for i in range(len(ytrain_l)):\n",
    "    #print(kmeans.labels_[i],ytrain_l[i])\n",
    "    res[kmeans.labels_[i]][ytrain_l[i]][0] += 1\n",
    "\n",
    "for i in range(k):\n",
    "    o = str(i)\n",
    "    m = ''\n",
    "    mm = 0\n",
    "    for j in types:\n",
    "        o += \"\\t\" + str(res[i][j][0])\n",
    "        if res[i][j][0] > mm:\n",
    "            mm = res[i][j][0]\n",
    "            m = j\n",
    "            #print(m,mm)\n",
    "    o += \"\\t\" + str(m)\n",
    "    r.append(m)\n",
    "    \n",
    "    \n",
    "#Test model\n",
    "y_pred = kmeans.predict(test_df)\n",
    "\n",
    "for i in range(len(y_pred)):\n",
    "    #print(i,y_pred[i],ytest_l[i])\n",
    "    rt[y_pred[i]] += 1\n",
    "    res[y_pred[i]][ytest_l[i]][1] += 1\n",
    "    if(ytest_l[i] == r[y_pred[i]]):\n",
    "        ra[y_pred[i]] += 1\n",
    "    \n",
    "#print(res)\n",
    "\n",
    "rf = 0\n",
    "for i in range(k):\n",
    "    o = 0\n",
    "    if rt[i]:\n",
    "        o = ra[i]/rt[i]\n",
    "    rf += o\n",
    "    #print(str(i) + \"\\t\" + r[i] +  \"\\t\" + str(o))\n",
    "    \n",
    "print(\"%1d\\t%.3f\" % (k,rf/k))"
   ]
  },
  {
   "cell_type": "code",
   "execution_count": 11,
   "id": "045d7ad9",
   "metadata": {},
   "outputs": [
    {
     "name": "stdout",
     "output_type": "stream",
     "text": [
      "2\t0.823\n",
      "3\t0.764\n",
      "4\t0.733\n",
      "5\t0.611\n",
      "6\t0.660\n",
      "7\t0.578\n",
      "8\t0.586\n",
      "9\t0.455\n"
     ]
    }
   ],
   "source": [
    "#choosing best k on test\n",
    "\n",
    "#for k in range(5,100,5):#number of clusters\n",
    "for k in range(2,10,1):#number of clusters\n",
    "    kmeans = KMeans(n_clusters = k, random_state = 0, n_init=10)\n",
    "    kmeans.fit(train_df)\n",
    "\n",
    "    #initialize list to evaluate\n",
    "    res = []\n",
    "    r = []\n",
    "    rt = [0] * k\n",
    "    ra = [0] * k\n",
    "\n",
    "    for i in range(k):\n",
    "        tmp = dict()\n",
    "        for j in types:\n",
    "            tmp[j] = list((0,0))\n",
    "        res.append(tmp)\n",
    "\n",
    "    for i in range(len(ytrain_l)):\n",
    "        #print(kmeans.labels_[i],ytrain_l[i])\n",
    "        res[kmeans.labels_[i]][ytrain_l[i]][0] += 1\n",
    "\n",
    "    for i in range(k):\n",
    "        o = str(i)\n",
    "        m = ''\n",
    "        mm = 0\n",
    "        for j in types:\n",
    "            o += \"\\t\" + str(res[i][j][0])\n",
    "            if res[i][j][0] > mm:\n",
    "                mm = res[i][j][0]\n",
    "                m = j\n",
    "                #print(m,mm)\n",
    "        o += \"\\t\" + str(m)\n",
    "        r.append(m)\n",
    "\n",
    "\n",
    "    #Test model\n",
    "    y_pred = kmeans.predict(test_df)\n",
    "\n",
    "    for i in range(len(y_pred)):\n",
    "        #print(i,y_pred[i],ytest_l[i])\n",
    "        rt[y_pred[i]] += 1\n",
    "        res[y_pred[i]][ytest_l[i]][1] += 1\n",
    "        if(ytest_l[i] == r[y_pred[i]]):\n",
    "            ra[y_pred[i]] += 1\n",
    "\n",
    "    #print(res)\n",
    "\n",
    "    rf = 0\n",
    "    for i in range(k):\n",
    "        o = 0\n",
    "        if rt[i]:\n",
    "            o = ra[i]/rt[i]\n",
    "        rf += o\n",
    "        #print(str(i) + \"\\t\" + r[i] +  \"\\t\" + str(o))\n",
    "\n",
    "    print(\"%1d\\t%.3f\" % (k,rf/k))"
   ]
  },
  {
   "cell_type": "code",
   "execution_count": null,
   "id": "066db78c",
   "metadata": {},
   "outputs": [],
   "source": []
  },
  {
   "cell_type": "code",
   "execution_count": null,
   "id": "5f0c4615",
   "metadata": {},
   "outputs": [],
   "source": []
  }
 ],
 "metadata": {
  "kernelspec": {
   "display_name": "Python 3 (ipykernel)",
   "language": "python",
   "name": "python3"
  },
  "language_info": {
   "codemirror_mode": {
    "name": "ipython",
    "version": 3
   },
   "file_extension": ".py",
   "mimetype": "text/x-python",
   "name": "python",
   "nbconvert_exporter": "python",
   "pygments_lexer": "ipython3",
   "version": "3.10.12"
  }
 },
 "nbformat": 4,
 "nbformat_minor": 5
}
